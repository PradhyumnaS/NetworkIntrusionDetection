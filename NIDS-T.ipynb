{
 "cells": [
  {
   "cell_type": "code",
   "execution_count": 1,
   "metadata": {
    "executionInfo": {
     "elapsed": 3018,
     "status": "ok",
     "timestamp": 1732336834149,
     "user": {
      "displayName": "1DS22IS105 Pradhyumna S",
      "userId": "11389522700949652190"
     },
     "user_tz": -330
    },
    "id": "ht0-_GOXKSY6"
   },
   "outputs": [],
   "source": [
    "import matplotlib.pyplot as plt\n",
    "import pandas as pd\n",
    "import numpy as np\n",
    "import seaborn as sns\n",
    "from sklearn.preprocessing import StandardScaler, LabelEncoder\n",
    "from sklearn.model_selection import train_test_split, cross_val_score\n",
    "from sklearn.ensemble import RandomForestClassifier\n",
    "from sklearn import metrics\n",
    "import warnings"
   ]
  },
  {
   "cell_type": "code",
   "execution_count": 2,
   "metadata": {
    "executionInfo": {
     "elapsed": 5,
     "status": "ok",
     "timestamp": 1732336834149,
     "user": {
      "displayName": "1DS22IS105 Pradhyumna S",
      "userId": "11389522700949652190"
     },
     "user_tz": -330
    },
    "id": "59tjMasfKTMT"
   },
   "outputs": [],
   "source": [
    "warnings.filterwarnings('ignore')\n",
    "pd.set_option('display.max_columns', None)\n",
    "sns.set(style=\"darkgrid\")"
   ]
  },
  {
   "cell_type": "code",
   "execution_count": null,
   "metadata": {
    "colab": {
     "base_uri": "https://localhost:8080/"
    },
    "executionInfo": {
     "elapsed": 18465,
     "status": "ok",
     "timestamp": 1732336852610,
     "user": {
      "displayName": "1DS22IS105 Pradhyumna S",
      "userId": "11389522700949652190"
     },
     "user_tz": -330
    },
    "id": "wzYd2q5hKVQ7",
    "outputId": "c12e462d-8186-4d11-c7b5-806eb21f520f"
   },
   "outputs": [],
   "source": [
    "from google.colab import drive\n",
    "drive.mount('/content/drive')\n",
    "train = pd.read_csv(\"/content/drive/My Drive/Datasets/NIDS/Train_data.csv\")\n",
    "test = pd.read_csv(\"/content/drive/My Drive/Datasets/NIDS/Test_data.csv\")"
   ]
  },
  {
   "cell_type": "code",
   "execution_count": null,
   "metadata": {
    "colab": {
     "base_uri": "https://localhost:8080/"
    },
    "collapsed": true,
    "executionInfo": {
     "elapsed": 8,
     "status": "ok",
     "timestamp": 1732336852611,
     "user": {
      "displayName": "1DS22IS105 Pradhyumna S",
      "userId": "11389522700949652190"
     },
     "user_tz": -330
    },
    "id": "5PqWW_upKYNJ",
    "outputId": "06a6e5a3-3253-4779-8465-4d7a3e4e08c9"
   },
   "outputs": [],
   "source": [
    "print(train.head(4))\n",
    "print(f\"Training data has {train.shape[0]} rows & {train.shape[1]} columns\")\n",
    "print(test.head(4))\n",
    "print(f\"Testing data has {test.shape[0]} rows & {test.shape[1]} columns\")"
   ]
  },
  {
   "cell_type": "code",
   "execution_count": 5,
   "metadata": {
    "executionInfo": {
     "elapsed": 6,
     "status": "ok",
     "timestamp": 1732336852611,
     "user": {
      "displayName": "1DS22IS105 Pradhyumna S",
      "userId": "11389522700949652190"
     },
     "user_tz": -330
    },
    "id": "hyku0vbxKabT"
   },
   "outputs": [],
   "source": [
    "train.drop(['num_outbound_cmds'], axis=1, inplace=True)\n",
    "test.drop(['num_outbound_cmds'], axis=1, inplace=True)"
   ]
  },
  {
   "cell_type": "code",
   "execution_count": 6,
   "metadata": {
    "executionInfo": {
     "elapsed": 5,
     "status": "ok",
     "timestamp": 1732336852611,
     "user": {
      "displayName": "1DS22IS105 Pradhyumna S",
      "userId": "11389522700949652190"
     },
     "user_tz": -330
    },
    "id": "SPQhhJiyKd11"
   },
   "outputs": [],
   "source": [
    "scaler = StandardScaler()\n",
    "num_cols = train.select_dtypes(include=['float64', 'int64']).columns\n",
    "train[num_cols] = scaler.fit_transform(train[num_cols])\n",
    "test[num_cols] = scaler.transform(test[num_cols])"
   ]
  },
  {
   "cell_type": "code",
   "execution_count": 7,
   "metadata": {
    "executionInfo": {
     "elapsed": 414,
     "status": "ok",
     "timestamp": 1732336859192,
     "user": {
      "displayName": "1DS22IS105 Pradhyumna S",
      "userId": "11389522700949652190"
     },
     "user_tz": -330
    },
    "id": "S0zGlD9VKeL_"
   },
   "outputs": [],
   "source": [
    "cat_cols = train.select_dtypes(include=['object']).columns.drop('class')\n",
    "for col in cat_cols:\n",
    "    combined_data = pd.concat([train[col], test[col]], axis=0)\n",
    "    encoder = LabelEncoder()\n",
    "    encoder.fit(combined_data)\n",
    "\n",
    "    train[col] = encoder.transform(train[col])\n",
    "    test[col] = encoder.transform(test[col])"
   ]
  },
  {
   "cell_type": "code",
   "execution_count": 8,
   "metadata": {
    "executionInfo": {
     "elapsed": 613,
     "status": "ok",
     "timestamp": 1732336860420,
     "user": {
      "displayName": "1DS22IS105 Pradhyumna S",
      "userId": "11389522700949652190"
     },
     "user_tz": -330
    },
    "id": "ioyibDOGKgjk"
   },
   "outputs": [],
   "source": [
    "train['class'] = encoder.fit_transform(train['class'])"
   ]
  },
  {
   "cell_type": "code",
   "execution_count": 9,
   "metadata": {
    "executionInfo": {
     "elapsed": 2,
     "status": "ok",
     "timestamp": 1732336860930,
     "user": {
      "displayName": "1DS22IS105 Pradhyumna S",
      "userId": "11389522700949652190"
     },
     "user_tz": -330
    },
    "id": "dlSxqKDpKip4"
   },
   "outputs": [],
   "source": [
    "X = train.drop('class', axis=1)\n",
    "y = train['class']"
   ]
  },
  {
   "cell_type": "code",
   "execution_count": 10,
   "metadata": {
    "executionInfo": {
     "elapsed": 1,
     "status": "ok",
     "timestamp": 1732336861296,
     "user": {
      "displayName": "1DS22IS105 Pradhyumna S",
      "userId": "11389522700949652190"
     },
     "user_tz": -330
    },
    "id": "EbyMRWRvKkxl"
   },
   "outputs": [],
   "source": [
    "X_train, X_val, y_train, y_val = train_test_split(X, y, test_size=0.3, random_state=2)\n"
   ]
  },
  {
   "cell_type": "code",
   "execution_count": null,
   "metadata": {
    "colab": {
     "base_uri": "https://localhost:8080/",
     "height": 80
    },
    "executionInfo": {
     "elapsed": 1344,
     "status": "ok",
     "timestamp": 1732336864190,
     "user": {
      "displayName": "1DS22IS105 Pradhyumna S",
      "userId": "11389522700949652190"
     },
     "user_tz": -330
    },
    "id": "XS43iy62Km15",
    "outputId": "deb63dd7-f5be-4af0-d86d-f3bac8640954"
   },
   "outputs": [],
   "source": [
    "model = RandomForestClassifier(random_state=0)\n",
    "model.fit(X_train, y_train)\n"
   ]
  },
  {
   "cell_type": "code",
   "execution_count": 12,
   "metadata": {
    "executionInfo": {
     "elapsed": 355,
     "status": "ok",
     "timestamp": 1732336866037,
     "user": {
      "displayName": "1DS22IS105 Pradhyumna S",
      "userId": "11389522700949652190"
     },
     "user_tz": -330
    },
    "id": "jVpI-3UFKpJA"
   },
   "outputs": [],
   "source": [
    "def evaluate_model(model, X_train, y_train, X_val, y_val):\n",
    "    cv_scores = cross_val_score(model, X_train, y_train, cv=10)\n",
    "    print(\"Cross Validation Mean Score:\", cv_scores.mean())\n",
    "\n",
    "    train_accuracy = metrics.accuracy_score(y_train, model.predict(X_train))\n",
    "    print(\"Training Accuracy:\", train_accuracy)\n",
    "\n",
    "    val_accuracy = metrics.accuracy_score(y_val, model.predict(X_val))\n",
    "    print(\"Validation Accuracy:\", val_accuracy)\n",
    "    print(\"Classification Report:\\n\", metrics.classification_report(y_val, model.predict(X_val)))\n",
    "    print(\"Confusion Matrix:\\n\", metrics.confusion_matrix(y_val, model.predict(X_val)))\n"
   ]
  },
  {
   "cell_type": "code",
   "execution_count": 13,
   "metadata": {
    "colab": {
     "base_uri": "https://localhost:8080/"
    },
    "collapsed": true,
    "executionInfo": {
     "elapsed": 9442,
     "status": "ok",
     "timestamp": 1732336877436,
     "user": {
      "displayName": "1DS22IS105 Pradhyumna S",
      "userId": "11389522700949652190"
     },
     "user_tz": -330
    },
    "id": "38AMDCpRKrwf",
    "outputId": "c538290a-eee2-4e5f-f28d-0f4fe4a7df9d"
   },
   "outputs": [
    {
     "name": "stdout",
     "output_type": "stream",
     "text": [
      "Cross Validation Mean Score: 0.9971079110411418\n",
      "Training Accuracy: 1.0\n",
      "Validation Accuracy: 0.9969568668960043\n",
      "Classification Report:\n",
      "               precision    recall  f1-score   support\n",
      "\n",
      "           0       1.00      1.00      1.00      3498\n",
      "           1       1.00      1.00      1.00      4060\n",
      "\n",
      "    accuracy                           1.00      7558\n",
      "   macro avg       1.00      1.00      1.00      7558\n",
      "weighted avg       1.00      1.00      1.00      7558\n",
      "\n",
      "Confusion Matrix:\n",
      " [[3485   13]\n",
      " [  10 4050]]\n"
     ]
    }
   ],
   "source": [
    "evaluate_model(model, X_train, y_train, X_val, y_val)"
   ]
  },
  {
   "cell_type": "code",
   "execution_count": null,
   "metadata": {
    "colab": {
     "base_uri": "https://localhost:8080/",
     "height": 573
    },
    "collapsed": true,
    "executionInfo": {
     "elapsed": 1523,
     "status": "ok",
     "timestamp": 1732336885123,
     "user": {
      "displayName": "1DS22IS105 Pradhyumna S",
      "userId": "11389522700949652190"
     },
     "user_tz": -330
    },
    "id": "rF6s3BQNKuBi",
    "outputId": "eba57eab-a0ab-4634-d200-3fb9fa5114ae"
   },
   "outputs": [],
   "source": [
    "importances = pd.DataFrame({'feature': X.columns, 'importance': model.feature_importances_}).sort_values(by='importance', ascending=False)\n",
    "plt.figure(figsize=(12, 6))\n",
    "sns.barplot(x='importance', y='feature', data=importances)\n",
    "plt.title(\"Feature Importance\")\n",
    "plt.show()"
   ]
  },
  {
   "cell_type": "code",
   "execution_count": null,
   "metadata": {
    "colab": {
     "base_uri": "https://localhost:8080/"
    },
    "executionInfo": {
     "elapsed": 1393,
     "status": "ok",
     "timestamp": 1732336892162,
     "user": {
      "displayName": "1DS22IS105 Pradhyumna S",
      "userId": "11389522700949652190"
     },
     "user_tz": -330
    },
    "id": "gY7jSfGHMIwA",
    "outputId": "410097d8-1c6e-4443-e706-239603c845e9"
   },
   "outputs": [],
   "source": [
    "import joblib\n",
    "joblib.dump(model, \"/content/drive/MyDrive/models/NIDS/finalmodel.pkl\")\n",
    "joblib.dump(scaler, \"/content/drive/MyDrive/models/NIDS/scaler.pkl\")\n",
    "joblib.dump(encoder, \"/content/drive/MyDrive/models/NIDS/encoder.pkl\")"
   ]
  }
 ],
 "metadata": {
  "accelerator": "TPU",
  "colab": {
   "authorship_tag": "ABX9TyMjK1hORFIcns7HlIBk6WyB",
   "gpuType": "V28",
   "provenance": []
  },
  "kernelspec": {
   "display_name": "Python 3",
   "name": "python3"
  },
  "language_info": {
   "name": "python"
  }
 },
 "nbformat": 4,
 "nbformat_minor": 0
}
